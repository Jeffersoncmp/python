{
 "cells": [
  {
   "cell_type": "code",
   "execution_count": 1,
   "metadata": {},
   "outputs": [],
   "source": [
    "# Baixar o demonstrativo de Resultado da Magazine Luiza\n",
    "\n",
    "# Passo 1: Entrar em https://ri.magazineluiza.com.br/\n",
    "# Passo 2: Clicar em planilha dinamica\n",
    "# Passo 3: Clicar em \"Clique aqui para fazer o download\"\n",
    "\n",
    "# Instalar o selenium\n",
    "#pip install selenium\n",
    "#-> ferramenta para automatizar funcionalidades de aplicações web\n",
    "\n",
    "#Baixar o web driver, no caso do chrome, o chromedriver\n",
    "#colocar na pasta de instalação do python\n",
    "#->Permite que o python interaja com o navegador"
   ]
  },
  {
   "cell_type": "code",
   "execution_count": 15,
   "metadata": {},
   "outputs": [],
   "source": [
    "#Importando apenas o webdriver da biblioteca do selenium\n",
    "from selenium import webdriver\n",
    "\n",
    "#Comando para abrir o chrome\n",
    "navegador = webdriver.Chrome()\n",
    "\n",
    "#Comando para navegar até uma página\n",
    "navegador.get('https://ri.magazineluiza.com.br/')\n",
    "\n",
    "#Procurar elemento a partir de seu xpath\n",
    "navegador.find_element_by_xpath('//*[@id=\"banner\"]/a[1]/img').click()\n",
    "navegador.find_element_by_xpath('//*[@id=\"Form1\"]/div[14]/div[2]/div/div/div[4]/ul/li[4]/a').click()\n",
    "navegador.find_element_by_xpath('//*[@id=\"4zS989en0CKjhpbeCLPGMw==\"]').click()\n"
   ]
  },
  {
   "cell_type": "code",
   "execution_count": null,
   "metadata": {},
   "outputs": [],
   "source": []
  },
  {
   "cell_type": "code",
   "execution_count": null,
   "metadata": {},
   "outputs": [],
   "source": []
  }
 ],
 "metadata": {
  "kernelspec": {
   "display_name": "Python 3",
   "language": "python",
   "name": "python3"
  },
  "language_info": {
   "codemirror_mode": {
    "name": "ipython",
    "version": 3
   },
   "file_extension": ".py",
   "mimetype": "text/x-python",
   "name": "python",
   "nbconvert_exporter": "python",
   "pygments_lexer": "ipython3",
   "version": "3.8.5"
  }
 },
 "nbformat": 4,
 "nbformat_minor": 4
}
