{
 "cells": [
  {
   "cell_type": "markdown",
   "metadata": {},
   "source": [
    "# Como pegar cotação de ações com o Python\n",
    "    \n",
    "    -pandas_datareader"
   ]
  },
  {
   "cell_type": "markdown",
   "metadata": {},
   "source": [
    "### Pegando cotação de 1 ação"
   ]
  },
  {
   "cell_type": "code",
   "execution_count": 1,
   "metadata": {},
   "outputs": [],
   "source": [
    "#BIBLIOTECAS\n",
    "from pandas_datareader import data as web\n",
    "import pandas as pd\n",
    "import matplotlib.pyplot as plt"
   ]
  },
  {
   "cell_type": "code",
   "execution_count": 2,
   "metadata": {},
   "outputs": [
    {
     "data": {
      "text/html": [
       "<div>\n",
       "<style scoped>\n",
       "    .dataframe tbody tr th:only-of-type {\n",
       "        vertical-align: middle;\n",
       "    }\n",
       "\n",
       "    .dataframe tbody tr th {\n",
       "        vertical-align: top;\n",
       "    }\n",
       "\n",
       "    .dataframe thead th {\n",
       "        text-align: right;\n",
       "    }\n",
       "</style>\n",
       "<table border=\"1\" class=\"dataframe\">\n",
       "  <thead>\n",
       "    <tr style=\"text-align: right;\">\n",
       "      <th></th>\n",
       "      <th>High</th>\n",
       "      <th>Low</th>\n",
       "      <th>Open</th>\n",
       "      <th>Close</th>\n",
       "      <th>Volume</th>\n",
       "      <th>Adj Close</th>\n",
       "    </tr>\n",
       "    <tr>\n",
       "      <th>Date</th>\n",
       "      <th></th>\n",
       "      <th></th>\n",
       "      <th></th>\n",
       "      <th></th>\n",
       "      <th></th>\n",
       "      <th></th>\n",
       "    </tr>\n",
       "  </thead>\n",
       "  <tbody>\n",
       "    <tr>\n",
       "      <th>2020-01-02</th>\n",
       "      <td>118573.0</td>\n",
       "      <td>115649.0</td>\n",
       "      <td>115652.0</td>\n",
       "      <td>118573.0</td>\n",
       "      <td>5162700.0</td>\n",
       "      <td>118573.0</td>\n",
       "    </tr>\n",
       "    <tr>\n",
       "      <th>2020-01-03</th>\n",
       "      <td>118792.0</td>\n",
       "      <td>117341.0</td>\n",
       "      <td>118564.0</td>\n",
       "      <td>117707.0</td>\n",
       "      <td>6834500.0</td>\n",
       "      <td>117707.0</td>\n",
       "    </tr>\n",
       "    <tr>\n",
       "      <th>2020-01-06</th>\n",
       "      <td>117707.0</td>\n",
       "      <td>116269.0</td>\n",
       "      <td>117707.0</td>\n",
       "      <td>116878.0</td>\n",
       "      <td>6570000.0</td>\n",
       "      <td>116878.0</td>\n",
       "    </tr>\n",
       "    <tr>\n",
       "      <th>2020-01-07</th>\n",
       "      <td>117076.0</td>\n",
       "      <td>115965.0</td>\n",
       "      <td>116872.0</td>\n",
       "      <td>116662.0</td>\n",
       "      <td>4854100.0</td>\n",
       "      <td>116662.0</td>\n",
       "    </tr>\n",
       "    <tr>\n",
       "      <th>2020-01-08</th>\n",
       "      <td>117335.0</td>\n",
       "      <td>115693.0</td>\n",
       "      <td>116667.0</td>\n",
       "      <td>116247.0</td>\n",
       "      <td>5910500.0</td>\n",
       "      <td>116247.0</td>\n",
       "    </tr>\n",
       "    <tr>\n",
       "      <th>...</th>\n",
       "      <td>...</td>\n",
       "      <td>...</td>\n",
       "      <td>...</td>\n",
       "      <td>...</td>\n",
       "      <td>...</td>\n",
       "      <td>...</td>\n",
       "    </tr>\n",
       "    <tr>\n",
       "      <th>2020-12-22</th>\n",
       "      <td>116903.0</td>\n",
       "      <td>115648.0</td>\n",
       "      <td>115825.0</td>\n",
       "      <td>116348.0</td>\n",
       "      <td>6947900.0</td>\n",
       "      <td>116348.0</td>\n",
       "    </tr>\n",
       "    <tr>\n",
       "      <th>2020-12-23</th>\n",
       "      <td>118311.0</td>\n",
       "      <td>116636.0</td>\n",
       "      <td>116636.0</td>\n",
       "      <td>117857.0</td>\n",
       "      <td>6483300.0</td>\n",
       "      <td>117857.0</td>\n",
       "    </tr>\n",
       "    <tr>\n",
       "      <th>2020-12-28</th>\n",
       "      <td>119213.0</td>\n",
       "      <td>117805.0</td>\n",
       "      <td>117806.0</td>\n",
       "      <td>119051.0</td>\n",
       "      <td>7171700.0</td>\n",
       "      <td>119051.0</td>\n",
       "    </tr>\n",
       "    <tr>\n",
       "      <th>2020-12-29</th>\n",
       "      <td>119861.0</td>\n",
       "      <td>118750.0</td>\n",
       "      <td>119130.0</td>\n",
       "      <td>119475.0</td>\n",
       "      <td>6769700.0</td>\n",
       "      <td>119475.0</td>\n",
       "    </tr>\n",
       "    <tr>\n",
       "      <th>2020-12-30</th>\n",
       "      <td>120150.0</td>\n",
       "      <td>118919.0</td>\n",
       "      <td>119410.0</td>\n",
       "      <td>119306.0</td>\n",
       "      <td>8235700.0</td>\n",
       "      <td>119306.0</td>\n",
       "    </tr>\n",
       "  </tbody>\n",
       "</table>\n",
       "<p>247 rows × 6 columns</p>\n",
       "</div>"
      ],
      "text/plain": [
       "                High       Low      Open     Close     Volume  Adj Close\n",
       "Date                                                                    \n",
       "2020-01-02  118573.0  115649.0  115652.0  118573.0  5162700.0   118573.0\n",
       "2020-01-03  118792.0  117341.0  118564.0  117707.0  6834500.0   117707.0\n",
       "2020-01-06  117707.0  116269.0  117707.0  116878.0  6570000.0   116878.0\n",
       "2020-01-07  117076.0  115965.0  116872.0  116662.0  4854100.0   116662.0\n",
       "2020-01-08  117335.0  115693.0  116667.0  116247.0  5910500.0   116247.0\n",
       "...              ...       ...       ...       ...        ...        ...\n",
       "2020-12-22  116903.0  115648.0  115825.0  116348.0  6947900.0   116348.0\n",
       "2020-12-23  118311.0  116636.0  116636.0  117857.0  6483300.0   117857.0\n",
       "2020-12-28  119213.0  117805.0  117806.0  119051.0  7171700.0   119051.0\n",
       "2020-12-29  119861.0  118750.0  119130.0  119475.0  6769700.0   119475.0\n",
       "2020-12-30  120150.0  118919.0  119410.0  119306.0  8235700.0   119306.0\n",
       "\n",
       "[247 rows x 6 columns]"
      ]
     },
     "metadata": {},
     "output_type": "display_data"
    }
   ],
   "source": [
    "ticker = '^BVSP' #Termo usado na pesquisa da cotação. ^BVSP significa Bovespa\n",
    "start='01/01/2020' #mes / dia / ano\n",
    "end='01/01/2021' #mes / dia / ano\n",
    "\n",
    "#cotacao_bovespa = web.DataReader(ticker, data_source='yahoo', start, end)\n",
    "cotacao_bovespa = web.DataReader(ticker, data_source='yahoo', start='01/01/2020', end='01/01/2021')\n",
    "\n",
    "display(cotacao_bovespa)"
   ]
  },
  {
   "cell_type": "code",
   "execution_count": 3,
   "metadata": {},
   "outputs": [
    {
     "data": {
      "image/png": "[encoded data removed]",
      "text/plain": [
       "<Figure size 1080x720 with 1 Axes>"
      ]
     },
     "metadata": {
      "needs_background": "light"
     },
     "output_type": "display_data"
    }
   ],
   "source": [
    "cotacao_bovespa['Adj Close'].plot(figsize=(15,10)) # figsize determina o tamanho do gráfico\n",
    "plt.show()"
   ]
  },
  {
   "cell_type": "code",
   "execution_count": 5,
   "metadata": {},
   "outputs": [
    {
     "data": {
      "text/html": [
       "<div>\n",
       "<style scoped>\n",
       "    .dataframe tbody tr th:only-of-type {\n",
       "        vertical-align: middle;\n",
       "    }\n",
       "\n",
       "    .dataframe tbody tr th {\n",
       "        vertical-align: top;\n",
       "    }\n",
       "\n",
       "    .dataframe thead th {\n",
       "        text-align: right;\n",
       "    }\n",
       "</style>\n",
       "<table border=\"1\" class=\"dataframe\">\n",
       "  <thead>\n",
       "    <tr style=\"text-align: right;\">\n",
       "      <th></th>\n",
       "      <th>Empresas</th>\n",
       "    </tr>\n",
       "  </thead>\n",
       "  <tbody>\n",
       "    <tr>\n",
       "      <th>0</th>\n",
       "      <td>ITUB4</td>\n",
       "    </tr>\n",
       "    <tr>\n",
       "      <th>1</th>\n",
       "      <td>PETR4</td>\n",
       "    </tr>\n",
       "    <tr>\n",
       "      <th>2</th>\n",
       "      <td>BBDC4</td>\n",
       "    </tr>\n",
       "    <tr>\n",
       "      <th>3</th>\n",
       "      <td>VALE3</td>\n",
       "    </tr>\n",
       "  </tbody>\n",
       "</table>\n",
       "</div>"
      ],
      "text/plain": [
       "  Empresas\n",
       "0    ITUB4\n",
       "1    PETR4\n",
       "2    BBDC4\n",
       "3    VALE3"
      ]
     },
     "metadata": {},
     "output_type": "display_data"
    }
   ],
   "source": [
    "empresas = pd.read_excel('Empresas.xlsx')\n",
    "display(empresas)"
   ]
  },
  {
   "cell_type": "code",
   "execution_count": null,
   "metadata": {},
   "outputs": [],
   "source": [
    "for empresa in tabela_empresas['']"
   ]
  }
 ],
 "metadata": {
  "kernelspec": {
   "display_name": "Python 3",
   "language": "python",
   "name": "python3"
  },
  "language_info": {
   "codemirror_mode": {
    "name": "ipython",
    "version": 3
   },
   "file_extension": ".py",
   "mimetype": "text/x-python",
   "name": "python",
   "nbconvert_exporter": "python",
   "pygments_lexer": "ipython3",
   "version": "3.8.5"
  }
 },
 "nbformat": 4,
 "nbformat_minor": 4
}
