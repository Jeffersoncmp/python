{
 "cells": [
  {
   "cell_type": "code",
   "execution_count": 16,
   "metadata": {},
   "outputs": [
    {
     "data": {
      "text/plain": [
       "'OK'"
      ]
     },
     "execution_count": 16,
     "metadata": {},
     "output_type": "execute_result"
    }
   ],
   "source": [
    "#AUTOMATIZAR BACKUP ARQUIVO NO DRIVER\n",
    "\n",
    "#Biblioteca de controle de teclado e mouse\n",
    "import pyautogui \n",
    "\n",
    "# adicionar pausa no código\n",
    "import time\n",
    "\n",
    "# mensagem para o usuário\n",
    "pyautogui.alert('O código vai começar. Não use nada do seu computador enquanto o código está rodando')\n",
    "\n",
    "# pausa a cada comando, para que de tempo do computador processar cada ação\n",
    "pyautogui.PAUSE = 0.5\n",
    "\n",
    "# abrir o google driver no computador\n",
    "\n",
    "# clicar no botão windows do teclado\n",
    "pyautogui.press('winleft')\n",
    "\n",
    "# digitar a palavra chrome\n",
    "pyautogui.write('chrome')\n",
    "\n",
    "# clicar na tecla enter\n",
    "pyautogui.press('enter')\n",
    "\n",
    "# pausa de 1 segundo antes da próxima ação\n",
    "time.sleep(1)\n",
    "\n",
    "# entrar no chrome\n",
    "pyautogui.write('https://drive.google.com/drive/my-drive')\n",
    "pyautogui.press('enter')\n",
    "\n",
    "# entrar na area de trabalho\n",
    "\n",
    "# atalho para ir para a área de trabalho\n",
    "pyautogui.hotkey('winleft', 'd')\n",
    "\n",
    "# clicar no arquivo que quero fazer o backup e arrastar ele\n",
    "\n",
    "# mover o cursor do mouse até o arquivo\n",
    "pyautogui.moveTo(1866, 28)\n",
    "\n",
    "# clicar e segurar com o mouse\n",
    "pyautogui.mouseDown()\n",
    "\n",
    "# enquanto arrasta, mudar para o google drive\n",
    "\n",
    "# mover o ponteiro do mouse até uma posição\n",
    "pyautogui.moveTo(1019, 645)\n",
    "\n",
    "# Comando alt tab\n",
    "pyautogui.hotkey('alt', 'tab')\n",
    "\n",
    "# largar o arquivo no google drive\n",
    "\n",
    "time.sleep(1)\n",
    "\n",
    "# soltar o botão\n",
    "pyautogui.mouseUp()\n",
    "\n",
    "# esperar 5 segundos\n",
    "time.sleep(5)\n",
    "\n",
    "pyautogui.alert('O código acabou de rodar. Pode usar o seu computador novamente')"
   ]
  },
  {
   "cell_type": "code",
   "execution_count": 13,
   "metadata": {},
   "outputs": [
    {
     "data": {
      "text/plain": [
       "Point(x=659, y=160)"
      ]
     },
     "execution_count": 13,
     "metadata": {},
     "output_type": "execute_result"
    }
   ],
   "source": [
    "pyautogui.position()"
   ]
  },
  {
   "cell_type": "code",
   "execution_count": null,
   "metadata": {},
   "outputs": [],
   "source": []
  }
 ],
 "metadata": {
  "kernelspec": {
   "display_name": "Python 3",
   "language": "python",
   "name": "python3"
  },
  "language_info": {
   "codemirror_mode": {
    "name": "ipython",
    "version": 3
   },
   "file_extension": ".py",
   "mimetype": "text/x-python",
   "name": "python",
   "nbconvert_exporter": "python",
   "pygments_lexer": "ipython3",
   "version": "3.8.5"
  }
 },
 "nbformat": 4,
 "nbformat_minor": 4
}
